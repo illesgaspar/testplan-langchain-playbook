{
 "cells": [
  {
   "cell_type": "code",
   "execution_count": 25,
   "metadata": {},
   "outputs": [],
   "source": [
    "loader = UnstructuredMarkdownLoader('./testplan_markdown_documentation/o/testplan/doc/en/introduction.md')"
   ]
  },
  {
   "cell_type": "code",
   "execution_count": 26,
   "metadata": {},
   "outputs": [],
   "source": [
    "data = loader.load()\n"
   ]
  },
  {
   "cell_type": "code",
   "execution_count": 27,
   "metadata": {},
   "outputs": [],
   "source": [
    "from langchain.text_splitter import RecursiveCharacterTextSplitter\n",
    "text_splitter = RecursiveCharacterTextSplitter(chunk_size=1000, chunk_overlap=0)\n",
    "texts = text_splitter.split_documents(data)"
   ]
  },
  {
   "cell_type": "code",
   "execution_count": 28,
   "metadata": {},
   "outputs": [
    {
     "name": "stdout",
     "output_type": "stream",
     "text": [
      "Now you have 16 documents\n"
     ]
    }
   ],
   "source": [
    "print (f'Now you have {len(texts)} documents')\n"
   ]
  },
  {
   "cell_type": "code",
   "execution_count": 10,
   "metadata": {},
   "outputs": [
    {
     "name": "stderr",
     "output_type": "stream",
     "text": [
      "c:\\Dev\\workspace\\python\\Virtual environments\\sandbox\\Lib\\site-packages\\pinecone\\index.py:4: TqdmWarning: IProgress not found. Please update jupyter and ipywidgets. See https://ipywidgets.readthedocs.io/en/stable/user_install.html\n",
      "  from tqdm.autonotebook import tqdm\n"
     ]
    }
   ],
   "source": [
    "from langchain.vectorstores import Chroma, Pinecone\n",
    "from langchain.embeddings.openai import OpenAIEmbeddings\n",
    "import pinecone"
   ]
  },
  {
   "cell_type": "code",
   "execution_count": 11,
   "metadata": {},
   "outputs": [],
   "source": [
    "OPENAI_API_KEY = '...'\n",
    "PINECONE_API_KEY = '...'\n",
    "PINECONE_API_ENV = '...'"
   ]
  },
  {
   "cell_type": "code",
   "execution_count": 12,
   "metadata": {},
   "outputs": [],
   "source": [
    "embeddings = OpenAIEmbeddings(openai_api_key=OPENAI_API_KEY)"
   ]
  },
  {
   "cell_type": "code",
   "execution_count": 16,
   "metadata": {},
   "outputs": [],
   "source": [
    "# initialize pinecone\n",
    "pinecone.init(\n",
    "    api_key=PINECONE_API_KEY,  # find at app.pinecone.io\n",
    "    environment=PINECONE_API_ENV  # next to api key in console\n",
    ")\n",
    "index_name = \"testplan\""
   ]
  },
  {
   "cell_type": "code",
   "execution_count": 30,
   "metadata": {},
   "outputs": [],
   "source": [
    "docsearch = Pinecone.from_texts([t.page_content for t in texts], embeddings, index_name=index_name)"
   ]
  },
  {
   "cell_type": "code",
   "execution_count": 19,
   "metadata": {},
   "outputs": [],
   "source": [
    "query = \"What are the supported python versions for testplan?\"\n",
    "docs = docsearch.similarity_search(query, include_metadata=True)"
   ]
  },
  {
   "cell_type": "code",
   "execution_count": 20,
   "metadata": {},
   "outputs": [],
   "source": [
    "from langchain.llms import OpenAI\n",
    "from langchain.chains.question_answering import load_qa_chain"
   ]
  },
  {
   "cell_type": "code",
   "execution_count": 21,
   "metadata": {},
   "outputs": [],
   "source": [
    "llm = OpenAI(temperature=0, openai_api_key=OPENAI_API_KEY)\n",
    "chain = load_qa_chain(llm, chain_type=\"stuff\")"
   ]
  },
  {
   "cell_type": "code",
   "execution_count": 23,
   "metadata": {},
   "outputs": [],
   "source": [
    "query = \"How to install testplan?\"\n",
    "docs = docsearch.similarity_search(query, include_metadata=True)"
   ]
  },
  {
   "cell_type": "code",
   "execution_count": 33,
   "metadata": {},
   "outputs": [],
   "source": [
    "query = 'What are the mandatory parts in test_plan.py? Give code examples'\n",
    "docs = docsearch.similarity_search(query, include_metadata=True)"
   ]
  },
  {
   "cell_type": "code",
   "execution_count": 34,
   "metadata": {},
   "outputs": [
    {
     "data": {
      "text/plain": [
       "\" The mandatory parts in test_plan.py are the imports to create the plan object and the tests hierarchy, the piece of code to be tested, and the main function that instantiates a Testplan object and adds tests to it. Code examples are: \\n\\n``` python\\nimport sys\\nfrom testplan import test_plan\\nfrom testplan.testing.multitest import MultiTest, testsuite, testcase\\n\\ndef multiply(numA, numB):\\n    return numA * numB\\n\\n@test_plan(name='Multiply')\\ndef main(plan):\\n    test = MultiTest(name='MultiplyTest',\\n                     suites=[BasicSuite()])\\n    plan.add(test)\\n\\nif name == 'main':\\n  sys.exit(not main())\\n```\""
      ]
     },
     "execution_count": 34,
     "metadata": {},
     "output_type": "execute_result"
    }
   ],
   "source": [
    "chain.run(input_documents=docs, question=query)"
   ]
  },
  {
   "cell_type": "code",
   "execution_count": 42,
   "metadata": {},
   "outputs": [
    {
     "name": "stdout",
     "output_type": "stream",
     "text": [
      "The mandatory parts in test_plan.py are the imports to create the plan object and the tests hierarchy,\n",
      " the piece of code to be tested, and the main function that instantiates a Testplan object and adds tests to it. Code examples are: \n",
      "\n",
      "``` python\n",
      "import sys\n",
      "from testplan import test_plan\n",
      "from testplan.testing.multitest import MultiTest, testsuite, testcase\n",
      "\n",
      "def multiply(numA, numB):\n",
      "    return numA * numB\n",
      "\n",
      "@test_plan(name='Multiply')\n",
      "def main(plan):\n",
      "    test = MultiTest(name='MultiplyTest',\n",
      "                     suites=[BasicSuite()])\n",
      "    plan.add(test)\n",
      "\n",
      "if name == 'main':\n",
      "  sys.exit(not main())\n",
      "```\n"
     ]
    }
   ],
   "source": [
    "print(\"The mandatory parts in test_plan.py are the imports to create the plan object and the tests hierarchy,\\n the piece of code to be tested, and the main function that instantiates a Testplan object and adds tests to it. Code examples are: \\n\\n``` python\\nimport sys\\nfrom testplan import test_plan\\nfrom testplan.testing.multitest import MultiTest, testsuite, testcase\\n\\ndef multiply(numA, numB):\\n    return numA * numB\\n\\n@test_plan(name='Multiply')\\ndef main(plan):\\n    test = MultiTest(name='MultiplyTest',\\n                     suites=[BasicSuite()])\\n    plan.add(test)\\n\\nif name == 'main':\\n  sys.exit(not main())\\n```\")"
   ]
  },
  {
   "cell_type": "code",
   "execution_count": null,
   "metadata": {},
   "outputs": [],
   "source": []
  }
 ],
 "metadata": {
  "kernelspec": {
   "display_name": "sandbox",
   "language": "python",
   "name": "python3"
  },
  "language_info": {
   "codemirror_mode": {
    "name": "ipython",
    "version": 3
   },
   "file_extension": ".py",
   "mimetype": "text/x-python",
   "name": "python",
   "nbconvert_exporter": "python",
   "pygments_lexer": "ipython3",
   "version": "3.11.3"
  },
  "orig_nbformat": 4
 },
 "nbformat": 4,
 "nbformat_minor": 2
}
